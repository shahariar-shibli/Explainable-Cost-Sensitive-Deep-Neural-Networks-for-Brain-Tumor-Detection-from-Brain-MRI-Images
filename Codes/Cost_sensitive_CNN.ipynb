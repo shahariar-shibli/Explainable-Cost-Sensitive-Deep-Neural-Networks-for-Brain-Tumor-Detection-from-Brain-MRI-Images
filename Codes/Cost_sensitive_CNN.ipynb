{
  "cells": [
    {
      "cell_type": "code",
      "execution_count": null,
      "metadata": {
        "id": "VFiWyco_Y2bU"
      },
      "outputs": [],
      "source": [
        "!pip install tensorflow==2.10.0"
      ]
    },
    {
      "cell_type": "code",
      "execution_count": null,
      "metadata": {
        "id": "_PaFJ5RWY5u7"
      },
      "outputs": [],
      "source": [
        "import tensorflow\n",
        "from tensorflow.keras.datasets import mnist\n",
        "from tensorflow.keras.models import Sequential\n",
        "from tensorflow.keras.layers import Dense, Dropout, Flatten\n",
        "from tensorflow.keras.layers import Conv2D, MaxPooling2D\n",
        "from tensorflow.keras import backend as K\n",
        "from tensorflow.keras.utils import to_categorical\n",
        "from tensorflow.keras import activations\n",
        "#from tensorflow.keras import optimizers"
      ]
    },
    {
      "cell_type": "code",
      "execution_count": null,
      "metadata": {
        "id": "m1DiZGNGY_lD"
      },
      "outputs": [],
      "source": [
        "# Model configuration\n",
        "img_width, img_height = 224, 224\n",
        "batch_size = 50\n",
        "no_epochs = 15\n",
        "no_classes = 2\n",
        "validation_split = 0.1131\n",
        "verbosity = 1"
      ]
    },
    {
      "cell_type": "code",
      "execution_count": null,
      "metadata": {
        "id": "RCjf8Dyz7YZc"
      },
      "outputs": [],
      "source": [
        "from google.colab import drive\n",
        "drive.mount('/content/drive')"
      ]
    },
    {
      "cell_type": "code",
      "execution_count": null,
      "metadata": {
        "id": "9wpHrjo_ZLJR"
      },
      "outputs": [],
      "source": [
        "import pandas as pd\n",
        "PATH = '/content/drive/MyDrive/Brain22/BDT/csvfile/'\n",
        "train_false=pd.read_csv(PATH + 'train_false.csv',header=None)\n",
        "train_true=pd.read_csv(PATH + 'train_true.csv',header=None)"
      ]
    },
    {
      "cell_type": "code",
      "execution_count": null,
      "metadata": {
        "id": "KgpdTEE-h7T7"
      },
      "outputs": [],
      "source": [
        "test_false=pd.read_csv(PATH + 'test_false.csv',header=None)\n",
        "test_true=pd.read_csv(PATH + 'test_true.csv',header=None)\n",
        "val_false=pd.read_csv(PATH + 'val_false.csv',header=None)\n",
        "val_true=pd.read_csv(PATH + 'val_true.csv',header=None)"
      ]
    },
    {
      "cell_type": "code",
      "execution_count": null,
      "metadata": {
        "id": "A1FQdAnSEutL"
      },
      "outputs": [],
      "source": []
    },
    {
      "cell_type": "code",
      "execution_count": null,
      "metadata": {
        "id": "nMb9Nn4q-o6m"
      },
      "outputs": [],
      "source": [
        "print(train_true.shape)\n",
        "print(train_false.shape)"
      ]
    },
    {
      "cell_type": "code",
      "execution_count": null,
      "metadata": {
        "id": "DCZov8K3ZSdV"
      },
      "outputs": [],
      "source": [
        "import numpy as np\n",
        "true = train_true\n",
        "false = train_false\n",
        "x=np.array(true)\n",
        "y=np.array(false)\n",
        "train=np.vstack((x, y))\n",
        "print(train.shape)"
      ]
    },
    {
      "cell_type": "code",
      "execution_count": null,
      "metadata": {
        "id": "TxLXrDzWccGZ"
      },
      "outputs": [],
      "source": [
        "train_label=np.zeros(202)\n",
        "train_label=train_label.astype(int)\n",
        "train_label[0:124]=1 #Tumor = 1, No-Tumor = 0\n",
        "print(train_label)\n"
      ]
    },
    {
      "cell_type": "code",
      "execution_count": null,
      "metadata": {
        "id": "G_msdOmU5YDl"
      },
      "outputs": [],
      "source": [
        "encoded_array = np.zeros((train_label.size, train_label.max()+1), dtype=int)\n",
        "encoded_array[np.arange(train_label.size),train_label] = 1 \n",
        "train_label=encoded_array\n",
        "print(train_label)"
      ]
    },
    {
      "cell_type": "code",
      "execution_count": null,
      "metadata": {
        "id": "ovnej1SPZWd8"
      },
      "outputs": [],
      "source": [
        "true = test_true\n",
        "false = test_false\n",
        "x=np.array(true)\n",
        "y=np.array(false)\n",
        "test=np.vstack((x, y))\n",
        "print(test.shape)"
      ]
    },
    {
      "cell_type": "code",
      "execution_count": null,
      "metadata": {
        "id": "ER8ATwsjGavY"
      },
      "outputs": [],
      "source": [
        "test_label=np.zeros(26)\n",
        "test_label=test_label.astype(int)\n",
        "test_label[0:16]=1 #Tumor = 1, No-Tumor = 0\n",
        "print(test_label)"
      ]
    },
    {
      "cell_type": "code",
      "execution_count": null,
      "metadata": {
        "id": "aDH0PdsO5YDm"
      },
      "outputs": [],
      "source": [
        "encoded_array = np.zeros((test_label.size, test_label.max()+1), dtype=int)\n",
        "encoded_array[np.arange(test_label.size),test_label] = 1 \n",
        "test_label=encoded_array\n",
        "print(test_label)"
      ]
    },
    {
      "cell_type": "code",
      "execution_count": null,
      "metadata": {
        "id": "Y2H30hyjGtU4"
      },
      "outputs": [],
      "source": [
        "true = val_true\n",
        "false = val_false\n",
        "x=np.array(true)\n",
        "y=np.array(false)\n",
        "val=np.vstack((x, y))\n",
        "print(val.shape)"
      ]
    },
    {
      "cell_type": "code",
      "execution_count": null,
      "metadata": {
        "id": "v5Q1CLX_Gzh5"
      },
      "outputs": [],
      "source": [
        "val_label=np.zeros(25)\n",
        "val_label=val_label.astype(int)\n",
        "val_label[0:15]=1 #Tumor = 1, No-Tumor = 0\n",
        "print(val_label)"
      ]
    },
    {
      "cell_type": "code",
      "execution_count": null,
      "metadata": {
        "id": "vTgiI44W5YDn"
      },
      "outputs": [],
      "source": [
        "encoded_array = np.zeros((val_label.size, val_label.max()+1), dtype=int)\n",
        "encoded_array[np.arange(val_label.size),val_label] = 1 \n",
        "val_label=encoded_array\n",
        "print(val_label)"
      ]
    },
    {
      "cell_type": "code",
      "execution_count": null,
      "metadata": {
        "id": "SF6X7oKqHS0i"
      },
      "outputs": [],
      "source": [
        "train_label.shape"
      ]
    },
    {
      "cell_type": "code",
      "execution_count": null,
      "metadata": {
        "id": "DbMW3U_BSa8Q"
      },
      "outputs": [],
      "source": [
        "import matplotlib.pyplot as plt\n",
        "fig, axes = plt.subplots(1, 1)\n",
        "axes.imshow(test[0].reshape(224,224), cmap='gray') \n",
        "axes.set_title('Input')\n",
        "  \n",
        "fig.suptitle(f'Ekush target = {test_label[0]}')\n",
        "plt.show()"
      ]
    },
    {
      "cell_type": "code",
      "execution_count": null,
      "metadata": {
        "id": "iPoIzjdLZbGI"
      },
      "outputs": [],
      "source": [
        "print(train_label.shape)"
      ]
    },
    {
      "cell_type": "code",
      "execution_count": null,
      "metadata": {
        "id": "U7NKcWifO-0U"
      },
      "outputs": [],
      "source": [
        "from keras import backend as K\n",
        "\n",
        "def recall_m(y_true, y_pred):\n",
        "    true_positives = K.sum(K.round(K.clip(y_true * y_pred, 0, 1)))\n",
        "    possible_positives = K.sum(K.round(K.clip(y_true, 0, 1)))\n",
        "    recall = true_positives / (possible_positives + K.epsilon())\n",
        "    return recall\n",
        "\n",
        "def precision_m(y_true, y_pred):\n",
        "    true_positives = K.sum(K.round(K.clip(y_true * y_pred, 0, 1)))\n",
        "    predicted_positives = K.sum(K.round(K.clip(y_pred, 0, 1)))\n",
        "    precision = true_positives / (predicted_positives + K.epsilon())\n",
        "    return precision\n",
        "\n",
        "def f1_m(y_true, y_pred):\n",
        "    precision = precision_m(y_true, y_pred)\n",
        "    recall = recall_m(y_true, y_pred)\n",
        "    return 2*((precision*recall)/(precision+recall))\n",
        "\n",
        "# weights = {0:10, 1:1}\n",
        "weights = {0:1.5897, 1:1}"
      ]
    },
    {
      "cell_type": "code",
      "execution_count": null,
      "metadata": {
        "id": "CdPIaFVJZc2-"
      },
      "outputs": [],
      "source": [
        "if K.image_data_format() == 'channels_first':\n",
        "    train = train.reshape(train.shape[0], 1, img_width, img_height)\n",
        "    test = test.reshape(test.shape[0], 1, img_width, img_height)\n",
        "    val = val.reshape(val.shape[0], 1, img_width, img_height)\n",
        "    input_shape = (1, img_width, img_height)\n",
        "else:\n",
        "    train = train.reshape(train.shape[0], img_width, img_height, 1)\n",
        "    test = test.reshape(test.shape[0], img_width, img_height, 1)\n",
        "    val = val.reshape(val.shape[0], img_width, img_height, 1)\n",
        "    input_shape = (img_width, img_height, 1)\n",
        "\n",
        "\n",
        "# Parse numbers as floats\n",
        "#print(train)\n",
        "train = train.astype('float32')\n",
        "test = test.astype('float32')\n",
        "val = val.astype('float32')\n",
        "#print(train)\n",
        "\n",
        "# Normalize data\n",
        "train = train / 255\n",
        "test = test / 255\n",
        "val = val / 255\n",
        "\n",
        "# Convert target vectors to categorical targets\n",
        "# train_label = to_categorical(train_label, no_classes)\n",
        "# test_label = to_categorical(test_label, no_classes)\n",
        "\n",
        "# Create the model\n",
        "model = Sequential()\n",
        "model.add(Conv2D(128, kernel_size=(3, 3), activation='relu', input_shape=input_shape))\n",
        "model.add(MaxPooling2D(pool_size=(2, 2)))\n",
        "model.add(Dropout(0.25))\n",
        "model.add(Conv2D(256, kernel_size=(3, 3), activation='relu'))\n",
        "model.add(MaxPooling2D(pool_size=(2, 2)))\n",
        "model.add(Dropout(0.25))\n",
        "model.add(Flatten())\n",
        "model.add(Dense(512, activation='relu'))\n",
        "model.add(Dense(2, activation='softmax', name='hello'))\n",
        "\n",
        "print(model.summary())\n",
        "\n",
        "# Compile the model\n",
        "model.compile(loss=tensorflow.keras.losses.binary_crossentropy,\n",
        "              optimizer=tensorflow.keras.optimizers.Adam(2e-5),\n",
        "              metrics=['acc'])\n",
        "\n",
        "# Fit data to model\n",
        "model.fit(train, train_label,\n",
        "          batch_size=batch_size,\n",
        "          epochs=10,\n",
        "          verbose=verbosity, \n",
        "          class_weight=weights,validation_data = (val, val_label))\n"
      ]
    },
    {
      "cell_type": "code",
      "source": [
        "model.fit(train, train_label,\n",
        "          batch_size=batch_size,\n",
        "          epochs=5,\n",
        "          verbose=verbosity, \n",
        "          class_weight=weights,validation_data = (val, val_label))"
      ],
      "metadata": {
        "id": "qCbT9j74Glmp"
      },
      "execution_count": null,
      "outputs": []
    },
    {
      "cell_type": "code",
      "execution_count": null,
      "metadata": {
        "id": "1FZisSMxju8q"
      },
      "outputs": [],
      "source": [
        "model.save(\"/content/drive/MyDrive/Brain2/BDTCS/csvfile/BDT35.h5\")"
      ]
    },
    {
      "cell_type": "code",
      "execution_count": null,
      "metadata": {
        "id": "x0UGUxF_OSSb"
      },
      "outputs": [],
      "source": [
        "test_prob = model.predict(test)"
      ]
    },
    {
      "cell_type": "code",
      "source": [
        "pd.DataFrame(test_prob).to_csv(\"/content/drive/MyDrive/Brain2/BDTCS/csvfile/testprobBDT35.csv\")"
      ],
      "metadata": {
        "id": "A2VApT5L9TZo"
      },
      "execution_count": null,
      "outputs": []
    },
    {
      "cell_type": "code",
      "execution_count": null,
      "metadata": {
        "id": "nMRJAXwEAXSQ"
      },
      "outputs": [],
      "source": [
        "from sklearn.metrics import confusion_matrix\n",
        "y_prediction = np.argmax(test_prob,axis=1)\n",
        "print(y_prediction)\n",
        "\n",
        "y_test=test_label\n",
        "y_test = np.argmax(y_test,axis=1)\n",
        "# #Create confusion matrix and normalizes it over predicted (columns)\n",
        "result = confusion_matrix(y_test, y_prediction)\n",
        "print(result)"
      ]
    },
    {
      "cell_type": "code",
      "source": [
        "print(y_prediction)"
      ],
      "metadata": {
        "id": "lPMC34mU_sud"
      },
      "execution_count": null,
      "outputs": []
    },
    {
      "cell_type": "code",
      "source": [
        "pd.DataFrame(y_prediction).to_csv(\"/content/drive/MyDrive/Brain2/BDTCS/csvfile/predclassBDT35.csv\")"
      ],
      "metadata": {
        "id": "QKijnfkY_d2d"
      },
      "execution_count": null,
      "outputs": []
    },
    {
      "cell_type": "code",
      "source": [
        "pd.DataFrame(result).to_csv(\"/content/drive/MyDrive/Brain2/BDTCS/csvfile/cmBDT35.csv\")"
      ],
      "metadata": {
        "id": "5WGMAwXD-J2J"
      },
      "execution_count": null,
      "outputs": []
    },
    {
      "cell_type": "code",
      "source": [
        "from sklearn.metrics import classification_report\n",
        "\n",
        "# #Create confusion matrix and normalizes it over predicted (columns)\n",
        "result = classification_report(y_test, y_prediction,output_dict=True)\n",
        "print(result)"
      ],
      "metadata": {
        "id": "6dWfw7y8-Pp5"
      },
      "execution_count": null,
      "outputs": []
    },
    {
      "cell_type": "code",
      "source": [
        "pd.DataFrame(result).to_csv(\"/content/drive/MyDrive/Brain2/BDTCS/csvfile/crBDT35.csv\")"
      ],
      "metadata": {
        "id": "L7tweOnH-YHD"
      },
      "execution_count": null,
      "outputs": []
    }
  ],
  "metadata": {
    "accelerator": "GPU",
    "colab": {
      "provenance": []
    },
    "kernelspec": {
      "display_name": "Python 3 (ipykernel)",
      "language": "python",
      "name": "python3"
    },
    "language_info": {
      "codemirror_mode": {
        "name": "ipython",
        "version": 3
      },
      "file_extension": ".py",
      "mimetype": "text/x-python",
      "name": "python",
      "nbconvert_exporter": "python",
      "pygments_lexer": "ipython3",
      "version": "3.9.7"
    }
  },
  "nbformat": 4,
  "nbformat_minor": 0
}