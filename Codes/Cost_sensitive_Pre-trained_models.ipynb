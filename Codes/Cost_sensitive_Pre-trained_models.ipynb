{
  "cells": [
    {
      "cell_type": "code",
      "execution_count": null,
      "id": "ba8a17d1",
      "metadata": {
        "id": "ba8a17d1"
      },
      "outputs": [],
      "source": [
        "pip install tensorflow"
      ]
    },
    {
      "cell_type": "code",
      "execution_count": null,
      "id": "f95f0e6a",
      "metadata": {
        "id": "f95f0e6a"
      },
      "outputs": [],
      "source": [
        "import matplotlib.pyplot as plt\n",
        "import tensorflow as tf\n",
        "import numpy as np\n",
        "import os\n",
        "import pandas as pd\n",
        "from tensorflow.keras.preprocessing.image import ImageDataGenerator\n",
        "from tensorflow.keras.optimizers import Adam, RMSprop\n",
        "from tensorflow.python.keras.models import Model\n",
        "from tensorflow.python.keras.layers import Dense, Flatten, Dropout\n",
        "from tensorflow.keras.applications.nasnet import NASNetMobile\n",
        "from tensorflow.keras.applications.resnet import ResNet50\n",
        "from tensorflow.keras.applications.inception_v3 import InceptionV3\n",
        "from tensorflow.keras.applications import EfficientNetB0"
      ]
    },
    {
      "cell_type": "code",
      "execution_count": null,
      "id": "45a10cda",
      "metadata": {
        "id": "45a10cda"
      },
      "outputs": [],
      "source": [
        "train_dir = \"C:/Users/DELL/Desktop/Brain22/BDT/train\"\n",
        "validation_dir = \"C:/Users/DELL/Desktop/Brain22/BDT/validation\"\n",
        "test_dir = \"C:/Users/DELL/Desktop/Brain22/BDT/test\""
      ]
    },
    {
      "cell_type": "code",
      "execution_count": null,
      "id": "64f9cd02",
      "metadata": {
        "id": "64f9cd02"
      },
      "outputs": [],
      "source": [
        "model1 =EfficientNetB0(include_top=False,input_shape=(224, 224, 3), weights='imagenet')"
      ]
    },
    {
      "cell_type": "code",
      "execution_count": null,
      "id": "b9dd9867",
      "metadata": {
        "id": "b9dd9867"
      },
      "outputs": [],
      "source": [
        "input_shape = (224,224)"
      ]
    },
    {
      "cell_type": "code",
      "execution_count": null,
      "id": "c31fe927",
      "metadata": {
        "id": "c31fe927"
      },
      "outputs": [],
      "source": [
        "datagen_train = ImageDataGenerator(rescale=1./255,\n",
        "                                  width_shift_range=0.1,\n",
        "                                  height_shift_range=0.1,\n",
        "                                  horizontal_flip=True,\n",
        "                                  vertical_flip=False)\n",
        "\n",
        "\n",
        "datagen_test = ImageDataGenerator(rescale=1./255)\n",
        "\n",
        "\n",
        "batch_size = 8\n",
        "generator_train = datagen_train.flow_from_directory(directory=train_dir,\n",
        "                                                    target_size=input_shape,\n",
        "                                                    batch_size=batch_size,\n",
        "                                                    shuffle=True)\n",
        "\n",
        "generator_test = datagen_test.flow_from_directory(directory=validation_dir,\n",
        "                                                  target_size=input_shape,\n",
        "                                                  batch_size=batch_size,\n",
        "                                                  shuffle=False)"
      ]
    },
    {
      "cell_type": "code",
      "execution_count": null,
      "id": "8c4917b9",
      "metadata": {
        "id": "8c4917b9"
      },
      "outputs": [],
      "source": [
        "def print_layer_trainable():\n",
        "    for layer in model1.layers:\n",
        "        print(\"{0}:\\t{1}\".format(layer.trainable, layer.name))\n",
        "\n",
        "\n",
        "print_layer_trainable()"
      ]
    },
    {
      "cell_type": "code",
      "execution_count": null,
      "id": "aca8db11",
      "metadata": {
        "id": "aca8db11"
      },
      "outputs": [],
      "source": [
        "conv_model = Model(inputs=model1.input, outputs=model1.output)"
      ]
    },
    {
      "cell_type": "code",
      "execution_count": null,
      "id": "bfb3331c",
      "metadata": {
        "id": "bfb3331c"
      },
      "outputs": [],
      "source": [
        "from tensorflow.keras.models import Sequential\n",
        "\n",
        "new_model = Sequential()\n",
        " \n",
        "new_model.add(conv_model)\n",
        "\n",
        "new_model.add(Flatten())\n",
        "\n",
        "\n",
        "new_model.add(Dense(1024, activation='relu'))\n",
        "new_model.add(Dropout(0.5))\n",
        "new_model.add(Dense(512, activation='relu'))\n",
        "\n",
        "# Add the final layer for the actual classification.\n",
        "new_model.add(Dense(2, activation='softmax'))"
      ]
    },
    {
      "cell_type": "code",
      "execution_count": null,
      "id": "5f4132c6",
      "metadata": {
        "id": "5f4132c6"
      },
      "outputs": [],
      "source": [
        "optimizer = Adam(lr=1e-5)\n",
        "loss = 'binary_crossentropy'\n",
        "metrics = ['categorical_accuracy']\n",
        "#name=\"binary_crossentropy\"\n",
        "#metrics=[tf.keras.metrics.BinaryAccuracy(),\n",
        "new_model.compile(optimizer=tf.keras.optimizers.Adam(learning_rate=1e-5),\n",
        "              loss=tf.keras.losses.BinaryCrossentropy(), metrics=metrics)"
      ]
    },
    {
      "cell_type": "code",
      "execution_count": null,
      "id": "9045cc05",
      "metadata": {
        "id": "9045cc05"
      },
      "outputs": [],
      "source": [
        "epochs = 30\n",
        "weights = {0:1.5897, 1:1}\n",
        "steps_per_epoch = generator_train.n / batch_size\n",
        "steps_test = generator_test.n / batch_size\n",
        "\n",
        "#steps_per_epoch = 20\n",
        "#steps_test = 100\n",
        "history = new_model.fit_generator(generator=generator_train,\n",
        "                                  epochs=epochs,\n",
        "                                  steps_per_epoch=steps_per_epoch,\n",
        "                                  validation_data=generator_test,\n",
        "                                  validation_steps=steps_test,class_weight = weights)"
      ]
    },
    {
      "cell_type": "code",
      "execution_count": null,
      "id": "834112d3",
      "metadata": {
        "id": "834112d3"
      },
      "outputs": [],
      "source": [
        "new_model.save_weights('C:/Users/DELL/Desktop/Brain22/BDT/Efficient/efficientEpoch30.h5')"
      ]
    },
    {
      "cell_type": "code",
      "execution_count": null,
      "id": "644c34ce",
      "metadata": {
        "id": "644c34ce"
      },
      "outputs": [],
      "source": [
        "import pandas as pd \n",
        "pd.DataFrame(history.history).to_csv(\"C:/Users/DELL/Desktop/Brain22/BDT/Efficient/efficientEpoch30.csv\")"
      ]
    },
    {
      "cell_type": "code",
      "execution_count": null,
      "id": "20dfb7d2",
      "metadata": {
        "id": "20dfb7d2"
      },
      "outputs": [],
      "source": [
        "history = new_model.fit_generator(generator=generator_train,\n",
        "                                  epochs=5,\n",
        "                                  steps_per_epoch=steps_per_epoch,\n",
        "                                  validation_data=generator_test,\n",
        "                                  validation_steps=steps_test)"
      ]
    },
    {
      "cell_type": "code",
      "execution_count": null,
      "id": "29337758",
      "metadata": {
        "id": "29337758"
      },
      "outputs": [],
      "source": [
        "new_model.save_weights('C:/Users/DELL/Desktop/Brain22/BDT/Efficient/efficientEpoch35.h5')\n",
        "import pandas as pd \n",
        "pd.DataFrame(history.history).to_csv(\"C:/Users/DELL/Desktop/Brain22/BDT/Efficient/efficientEpoch35.csv\")"
      ]
    },
    {
      "cell_type": "code",
      "execution_count": null,
      "id": "ea70d349",
      "metadata": {
        "id": "ea70d349"
      },
      "outputs": [],
      "source": [
        "finaltestCNV_dir = \"C:/Users/DELL/Desktop/Brain22/BDT/test\"\n",
        "datagen_finaltestCNV_dir = ImageDataGenerator(rescale=1./255)\n",
        "\n",
        "generator_finaltestCNV_dir = datagen_finaltestCNV_dir.flow_from_directory(directory=finaltestCNV_dir,\n",
        "                                                  target_size=input_shape,\n",
        "                                                  batch_size=batch_size,\n",
        "                                                  shuffle=False)\n",
        "steps_finaltestCNV_dir = generator_finaltestCNV_dir.n / batch_size\n",
        "y_pred = new_model.predict_generator(generator_finaltestCNV_dir,steps = steps_finaltestCNV_dir)"
      ]
    },
    {
      "cell_type": "code",
      "execution_count": null,
      "id": "29fc1f48",
      "metadata": {
        "id": "29fc1f48"
      },
      "outputs": [],
      "source": [
        "import pandas as pd \n",
        "pd.DataFrame(y_pred).to_csv(\"C:/Users/DELL/Desktop/Brain22/BDT/Efficient/predEpoch35.csv\")"
      ]
    },
    {
      "cell_type": "code",
      "execution_count": null,
      "id": "ec06136e",
      "metadata": {
        "id": "ec06136e"
      },
      "outputs": [],
      "source": [
        "predicted_class_indices=np.argmax(y_pred,axis=1)\n",
        "print(predicted_class_indices)"
      ]
    },
    {
      "cell_type": "code",
      "execution_count": null,
      "id": "74291921",
      "metadata": {
        "id": "74291921"
      },
      "outputs": [],
      "source": [
        "import pandas as pd \n",
        "pd.DataFrame(predicted_class_indices).to_csv(\"C:/Users/DELL/Desktop/Brain22/BDT/Efficient/predclassEpoch35.csv\")"
      ]
    },
    {
      "cell_type": "code",
      "execution_count": null,
      "id": "a1e0f34e",
      "metadata": {
        "id": "a1e0f34e"
      },
      "outputs": [],
      "source": [
        "test_label=np.ones(26)\n",
        "test_label=test_label.astype(int)\n",
        "test_label[:10]=0 #Tumor = 1, No-Tumor = 0\n",
        "print(test_label)"
      ]
    },
    {
      "cell_type": "code",
      "execution_count": null,
      "id": "00012a62",
      "metadata": {
        "id": "00012a62"
      },
      "outputs": [],
      "source": [
        "from sklearn.metrics import confusion_matrix\n",
        "array = confusion_matrix(test_label, predicted_class_indices)\n",
        "print(array)\n",
        "import pandas as pd "
      ]
    },
    {
      "cell_type": "code",
      "execution_count": null,
      "id": "1bb0037f",
      "metadata": {
        "id": "1bb0037f"
      },
      "outputs": [],
      "source": [
        "pd.DataFrame(array).to_csv(\"C:/Users/DELL/Desktop/Brain22/BDT/Efficient/cmclassEpoch35.csv\")"
      ]
    },
    {
      "cell_type": "code",
      "execution_count": null,
      "id": "365296cc",
      "metadata": {
        "id": "365296cc"
      },
      "outputs": [],
      "source": [
        "from sklearn.metrics import classification_report\n",
        "array = classification_report(test_label, predicted_class_indices,output_dict=True)\n",
        "print(array)"
      ]
    },
    {
      "cell_type": "code",
      "execution_count": null,
      "id": "42ab1628",
      "metadata": {
        "id": "42ab1628"
      },
      "outputs": [],
      "source": [
        "import pandas as pd \n",
        "pd.DataFrame(array).to_csv(\"C:/Users/DELL/Desktop/Brain22/BDT/Efficient/reportclassEpoch35.csv\")"
      ]
    }
  ],
  "metadata": {
    "colab": {
      "provenance": []
    },
    "kernelspec": {
      "display_name": "Python 3 (ipykernel)",
      "language": "python",
      "name": "python3"
    },
    "language_info": {
      "codemirror_mode": {
        "name": "ipython",
        "version": 3
      },
      "file_extension": ".py",
      "mimetype": "text/x-python",
      "name": "python",
      "nbconvert_exporter": "python",
      "pygments_lexer": "ipython3",
      "version": "3.9.7"
    }
  },
  "nbformat": 4,
  "nbformat_minor": 5
}