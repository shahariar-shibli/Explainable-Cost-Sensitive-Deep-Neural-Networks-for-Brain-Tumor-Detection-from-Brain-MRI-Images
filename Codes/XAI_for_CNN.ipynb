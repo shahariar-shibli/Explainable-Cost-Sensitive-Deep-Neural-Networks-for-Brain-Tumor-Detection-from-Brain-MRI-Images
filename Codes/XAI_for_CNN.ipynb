{
  "cells": [
    {
      "cell_type": "code",
      "execution_count": null,
      "metadata": {
        "id": "OeydhOOPXZNE"
      },
      "outputs": [],
      "source": [
        "from google.colab import drive\n",
        "drive.mount('/content/drive')"
      ]
    },
    {
      "cell_type": "code",
      "execution_count": null,
      "metadata": {
        "id": "bnths_pfYUJ1"
      },
      "outputs": [],
      "source": [
        "import pandas as pd\n",
        "PATH = '/content/drive/MyDrive/Brain22/BDT/csvfile/'\n",
        "csv_false=pd.read_csv(PATH + 'test_false.csv',header=None)\n",
        "csv_true=pd.read_csv(PATH + 'test_true.csv',header=None)"
      ]
    },
    {
      "cell_type": "code",
      "execution_count": null,
      "metadata": {
        "id": "1fXOm99SZNXO"
      },
      "outputs": [],
      "source": [
        "import numpy as np\n",
        "\n",
        "true = csv_true\n",
        "false = csv_false\n",
        "\n",
        "x=np.array(true)\n",
        "y=np.array(false)\n",
        "\n",
        "X=np.vstack((x, y))\n",
        "\n",
        "print(X.shape)"
      ]
    },
    {
      "cell_type": "code",
      "execution_count": null,
      "metadata": {
        "id": "LOaDDsknA4Lt"
      },
      "outputs": [],
      "source": [
        "import matplotlib.pyplot as plt\n",
        "fig, axes = plt.subplots(1, 1)\n",
        "axes.imshow(X[23].reshape(224,224), cmap='gray') \n",
        "axes.set_title('Input')\n",
        "  \n",
        "#fig.suptitle(f'target = {target_test[21]}')\n",
        "plt.show()"
      ]
    },
    {
      "cell_type": "code",
      "execution_count": null,
      "metadata": {
        "id": "6xIitTcjTvJ8"
      },
      "outputs": [],
      "source": [
        "!pip install tensorflow==2.10.0"
      ]
    },
    {
      "cell_type": "code",
      "execution_count": null,
      "metadata": {
        "id": "yV97emiEWQWT"
      },
      "outputs": [],
      "source": [
        "from tensorflow.keras.utils import to_categorical\n",
        "from tensorflow.keras import optimizers\n",
        "from tensorflow.keras.layers import Input\n",
        "from tensorflow.keras.models import Model\n",
        "from tensorflow.keras.optimizers import Adam"
      ]
    },
    {
      "cell_type": "code",
      "execution_count": null,
      "metadata": {
        "id": "SaOSJlqmXWf-"
      },
      "outputs": [],
      "source": [
        "img_width, img_height = 224, 224"
      ]
    },
    {
      "cell_type": "code",
      "execution_count": null,
      "metadata": {
        "id": "MOOdc4zCypRg"
      },
      "outputs": [],
      "source": [
        "from tensorflow.keras import backend as K\n",
        "from tensorflow.keras import optimizers\n",
        "\n",
        "if K.image_data_format() == 'channels_first':\n",
        "    #input_train = input_train.reshape(input_train.shape[0], 1, img_width, img_height)\n",
        "    input_test = X.reshape(X.shape[0], 1, img_width, img_height)\n",
        "    input_shape = (1, img_width, img_height)\n",
        "else:\n",
        "    #input_train = input_train.reshape(input_train.shape[0], img_width, img_height, 1)\n",
        "    input_test = X.reshape(X.shape[0], img_width, img_height, 1)\n",
        "    input_shape = (img_width, img_height, 1)\n",
        "\n",
        "input_test = input_test.astype('float32')\n",
        "\n",
        "input_test = input_test / 255\n",
        "\n",
        "target_test = to_categorical(label, 2)"
      ]
    },
    {
      "cell_type": "markdown",
      "metadata": {
        "id": "7IW-ppVfTrnV"
      },
      "source": [
        "**Attentions visualization**"
      ]
    },
    {
      "cell_type": "code",
      "execution_count": null,
      "metadata": {
        "id": "dO81K21ZVaDQ"
      },
      "outputs": [],
      "source": [
        "from keras.models import load_model\n",
        "#PATH_c = '/gdrive/My Drive/XAI/resnet_fine_tuned_001.h5'\n",
        "PATH_c = '/content/drive/MyDrive/Brain2/BDTCS/csvfile/BDT35.h5'\n",
        "new_model = load_model(PATH_c, compile=False)"
      ]
    },
    {
      "cell_type": "code",
      "execution_count": null,
      "metadata": {
        "id": "_eNl5lv06v05"
      },
      "outputs": [],
      "source": [
        "%%capture\n",
        "!pip3 install tf-keras-vis tensorflow"
      ]
    },
    {
      "cell_type": "code",
      "execution_count": null,
      "metadata": {
        "id": "Xt7gXSjq3Lj3"
      },
      "outputs": [],
      "source": [
        "predict_score = new_model.predict(input_test, verbose=0)"
      ]
    },
    {
      "cell_type": "code",
      "execution_count": null,
      "metadata": {
        "id": "RMXCHWOpPQit"
      },
      "outputs": [],
      "source": [
        "id = 7"
      ]
    },
    {
      "cell_type": "code",
      "execution_count": null,
      "metadata": {
        "id": "UIWD57kD7HGY"
      },
      "outputs": [],
      "source": [
        "import matplotlib.pyplot as plt\n",
        "fig, axes = plt.subplots(1, 1) \n",
        "axes.imshow(input_test[id].reshape(224,224), cmap='gray') \n",
        "axes.set_title('Input')\n",
        "  \n",
        "fig.suptitle(f'target = {label[id]}, Predicted = {label[id]}')\n",
        "plt.show()"
      ]
    },
    {
      "cell_type": "code",
      "execution_count": null,
      "metadata": {
        "id": "kxJFK6gt5iP2"
      },
      "outputs": [],
      "source": [
        "target_test[id]"
      ]
    },
    {
      "cell_type": "code",
      "execution_count": null,
      "metadata": {
        "id": "BPYnpxGY7ZIS"
      },
      "outputs": [],
      "source": [
        "from tf_keras_vis.saliency import Saliency\n",
        "from tf_keras_vis.utils.model_modifiers import ReplaceToLinear\n",
        "from tf_keras_vis.utils.scores import CategoricalScore\n",
        "from tf_keras_vis.utils.scores import BinaryScore\n",
        "from tensorflow.keras.applications.resnet50 import preprocess_input\n",
        "\n",
        "\n",
        "input_image = images = np.asarray([input_test[id]])\n",
        "#input_image = input_test[0]\n",
        "print(input_image.shape)\n",
        "input_class = np.argmax(target_test[id])\n",
        "#input_class = target_test[0]\n",
        "print(input_class)\n",
        "\n",
        "replace2linear = ReplaceToLinear()\n",
        "score = CategoricalScore([input_class])\n",
        "#score = input_class\n",
        "print(score)\n",
        "# Create Saliency object.\n",
        "saliency = Saliency(new_model,model_modifier=replace2linear,clone=False)\n",
        "\n",
        "#X = preprocess_input(input_image)\n",
        "X = input_image\n",
        "# Generate saliency map\n",
        "saliency_map = saliency(score, X)\n",
        "\n",
        "## Since v0.6.0, calling `normalize()` is NOT necessary.\n",
        "# saliency_map = normalize(saliency_map)\n",
        "\n",
        "image_titles = ['Tumor Brain']\n",
        "# Render\n",
        "f, ax = plt.subplots(nrows=1, ncols=1, figsize=(12, 4))\n",
        "# len(ax)\n",
        "#ax[i].set_title(title, fontsize=16)\n",
        "ax.imshow(saliency_map[0], cmap='jet')\n",
        "ax.axis('off')\n",
        "#plt.tight_layout()\n",
        "plt.show()"
      ]
    },
    {
      "cell_type": "code",
      "execution_count": null,
      "metadata": {
        "id": "tuy_OpJ9Yt6J"
      },
      "outputs": [],
      "source": [
        "# Generate saliency map with smoothing that reduce noise by adding noise\n",
        "saliency_map2 = saliency(score,\n",
        "                        X,\n",
        "                        smooth_samples=20, # The number of calculating gradients iterations.\n",
        "                        smooth_noise=0.20) # noise spread level.\n",
        "\n",
        "## Since v0.6.0, calling `normalize()` is NOT necessary.\n",
        "# saliency_map = normalize(saliency_map)\n",
        "\n",
        "# Render\n",
        "f, ax = plt.subplots(nrows=1, ncols=3, figsize=(12, 4))\n",
        "for i, title in enumerate(image_titles):\n",
        "    ax[i].set_title(title, fontsize=14)\n",
        "    ax[i].imshow(saliency_map2[i], cmap='jet')\n",
        "    ax[i].axis('off')\n",
        "plt.tight_layout()\n",
        "plt.savefig('smoothgrad.png')\n",
        "plt.show()"
      ]
    },
    {
      "cell_type": "code",
      "execution_count": null,
      "metadata": {
        "id": "3MS68WqEY-uv"
      },
      "outputs": [],
      "source": [
        "from matplotlib import cm\n",
        "from tf_keras_vis.gradcam import Gradcam\n",
        "\n",
        "# Create Gradcam object\n",
        "gradcam = Gradcam(new_model,\n",
        "                  model_modifier=replace2linear,\n",
        "                  clone=False)\n",
        "\n",
        "# Generate heatmap with GradCAM\n",
        "cam = gradcam(score,\n",
        "              X,\n",
        "              penultimate_layer=-1)\n",
        "\n",
        "## Since v0.6.0, calling `normalize()` is NOT necessary.\n",
        "# cam = normalize(cam)\n",
        "\n",
        "# Render\n",
        "f, ax = plt.subplots(nrows=1, ncols=3, figsize=(12, 4))\n",
        "for i, title in enumerate(image_titles):\n",
        "    heatmap = np.uint8(cm.jet(cam[i])[..., :3] * 255)\n",
        "    ax[i].set_title(title, fontsize=16)\n",
        "    ax[i].imshow(images[i].reshape(224,224))\n",
        "    ax[i].imshow(heatmap, cmap='jet', alpha=0.5) # overlay\n",
        "    ax[i].axis('off')\n",
        "plt.tight_layout()\n",
        "plt.show()"
      ]
    },
    {
      "cell_type": "code",
      "execution_count": null,
      "metadata": {
        "id": "_5vLPIMZZjwZ"
      },
      "outputs": [],
      "source": [
        "from tf_keras_vis.gradcam_plus_plus import GradcamPlusPlus\n",
        "\n",
        "# Create GradCAM++ object\n",
        "gradcam = GradcamPlusPlus(new_model,\n",
        "                          model_modifier=replace2linear,\n",
        "                          clone=False)\n",
        "\n",
        "# Generate heatmap with GradCAM++\n",
        "cam = gradcam(score,\n",
        "              X,\n",
        "              penultimate_layer=-1)\n",
        "\n",
        "## Since v0.6.0, calling `normalize()` is NOT necessary.\n",
        "# cam = normalize(cam)\n",
        "\n",
        "# Render\n",
        "f, ax = plt.subplots(nrows=1, ncols=3, figsize=(12, 4))\n",
        "for i, title in enumerate(image_titles):\n",
        "    heatmap2 = np.uint8(cm.jet(cam[i])[..., :3] * 255)\n",
        "    ax[i].set_title(title, fontsize=16)\n",
        "    ax[i].imshow(images[i].reshape(224,224))\n",
        "    ax[i].imshow(heatmap2, cmap='jet', alpha=0.5)\n",
        "    ax[i].axis('off')\n",
        "plt.tight_layout()\n",
        "plt.savefig('gradcam_plus_plus.png')\n",
        "plt.show()"
      ]
    },
    {
      "cell_type": "code",
      "execution_count": null,
      "metadata": {
        "id": "pXWBCTDNZwrn"
      },
      "outputs": [],
      "source": [
        "from tf_keras_vis.scorecam import Scorecam\n",
        "from tf_keras_vis.utils import num_of_gpus\n",
        "\n",
        "# Create ScoreCAM object\n",
        "scorecam = Scorecam(new_model)\n",
        "\n",
        "# Generate heatmap with ScoreCAM\n",
        "cam = scorecam(score, X, penultimate_layer=-1)\n",
        "\n",
        "## Since v0.6.0, calling `normalize()` is NOT necessary.\n",
        "# cam = normalize(cam)\n",
        "\n",
        "# Render\n",
        "f, ax = plt.subplots(nrows=1, ncols=3, figsize=(12, 4))\n",
        "for i, title in enumerate(image_titles):\n",
        "    heatmap3 = np.uint8(cm.jet(cam[i])[..., :3] * 255)\n",
        "    ax[i].set_title(title, fontsize=16)\n",
        "    ax[i].imshow(images[i].reshape(224,224))\n",
        "    ax[i].imshow(heatmap3, cmap='jet', alpha=0.5)\n",
        "    ax[i].axis('off')\n",
        "plt.tight_layout()\n",
        "plt.show()"
      ]
    },
    {
      "cell_type": "code",
      "execution_count": null,
      "metadata": {
        "id": "XEGyoAnYdsPk"
      },
      "outputs": [],
      "source": [
        "from tf_keras_vis.scorecam import Scorecam\n",
        "\n",
        "# Create ScoreCAM object\n",
        "scorecam = Scorecam(new_model, model_modifier=replace2linear)\n",
        "\n",
        "# Generate heatmap with Faster-ScoreCAM\n",
        "cam = scorecam(score,\n",
        "               X,\n",
        "               penultimate_layer=-1,\n",
        "               max_N=10)\n",
        "\n",
        "## Since v0.6.0, calling `normalize()` is NOT necessary.\n",
        "# cam = normalize(cam)\n",
        "\n",
        "# Render\n",
        "f, ax = plt.subplots(nrows=1, ncols=3, figsize=(12, 4))\n",
        "for i, title in enumerate(image_titles):\n",
        "    heatmap4 = np.uint8(cm.jet(cam[i])[..., :3] * 255)\n",
        "    ax[i].set_title(title, fontsize=16)\n",
        "    ax[i].imshow(images[i].reshape(224,224))\n",
        "    ax[i].imshow(heatmap4, cmap='jet', alpha=0.5)\n",
        "    ax[i].axis('off')\n",
        "plt.tight_layout()\n",
        "plt.show()"
      ]
    },
    {
      "cell_type": "code",
      "execution_count": null,
      "metadata": {
        "id": "Zc5VSjLiWzPB"
      },
      "outputs": [],
      "source": [
        "# Render\n",
        "f, ax = plt.subplots(nrows=1, ncols=7, figsize=(24, 12))\n",
        "\n",
        "ax[0].set_title(\"original\", fontsize=12)\n",
        "ax[0].imshow(input_test[id].reshape(224,224), cmap='gray')\n",
        "ax[0].axis('off')\n",
        "\n",
        "ax[1].set_title(\"Vanilla Saliency\", fontsize=12)\n",
        "ax[1].imshow(saliency_map[0], cmap='jet')\n",
        "ax[1].axis('off')\n",
        "\n",
        "ax[2].set_title(\"Smooth Grad\", fontsize=12)\n",
        "ax[2].imshow(saliency_map2[0], cmap='jet')\n",
        "ax[2].axis('off')\n",
        "\n",
        "ax[3].set_title(\"GradCAM\", fontsize=12)\n",
        "ax[3].imshow(input_test[id].reshape(224,224))\n",
        "ax[3].imshow(heatmap, cmap='jet', alpha=0.5)\n",
        "ax[3].axis('off')\n",
        "\n",
        "ax[4].set_title(\"GradCAM++\", fontsize=12)\n",
        "ax[4].imshow(input_test[id].reshape(224,224))\n",
        "ax[4].imshow(heatmap2, cmap='jet', alpha=0.5)\n",
        "ax[4].axis('off')\n",
        "\n",
        "ax[5].set_title(\"ScoreCAM\", fontsize=12)\n",
        "ax[5].imshow(input_test[id].reshape(224,224))\n",
        "ax[5].imshow(heatmap3, cmap='jet', alpha=0.5)\n",
        "ax[5].axis('off')\n",
        "\n",
        "ax[6].set_title(\"Faster ScoreCAM\", fontsize=12)\n",
        "ax[6].imshow(input_test[id].reshape(224,224))\n",
        "ax[6].imshow(heatmap4, cmap='jet', alpha=0.5)\n",
        "ax[6].axis('off')\n",
        "\n",
        "plt.show()"
      ]
    }
  ],
  "metadata": {
    "accelerator": "GPU",
    "colab": {
      "provenance": []
    },
    "kernelspec": {
      "display_name": "Python 3",
      "name": "python3"
    },
    "language_info": {
      "name": "python"
    }
  },
  "nbformat": 4,
  "nbformat_minor": 0
}