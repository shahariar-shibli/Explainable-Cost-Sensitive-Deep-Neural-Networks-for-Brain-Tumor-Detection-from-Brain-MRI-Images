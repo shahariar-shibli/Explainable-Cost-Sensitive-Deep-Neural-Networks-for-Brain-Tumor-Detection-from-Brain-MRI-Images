{
  "cells": [
    {
      "cell_type": "code",
      "execution_count": null,
      "id": "ba8a17d1",
      "metadata": {
        "id": "ba8a17d1"
      },
      "outputs": [],
      "source": [
        "pip install tensorflow"
      ]
    },
    {
      "cell_type": "code",
      "execution_count": null,
      "id": "f95f0e6a",
      "metadata": {
        "id": "f95f0e6a"
      },
      "outputs": [],
      "source": [
        "import matplotlib.pyplot as plt\n",
        "import tensorflow as tf\n",
        "import numpy as np\n",
        "import os\n",
        "import pandas as pd\n",
        "from tensorflow.keras.preprocessing.image import ImageDataGenerator\n",
        "from tensorflow.keras.optimizers import Adam, RMSprop\n",
        "from tensorflow.python.keras.models import Model\n",
        "from tensorflow.python.keras.layers import Dense, Flatten, Dropout\n",
        "from tensorflow.keras.applications.nasnet import NASNetMobile\n",
        "from tensorflow.keras.applications.resnet import ResNet50\n",
        "from tensorflow.keras.applications.inception_v3 import InceptionV3\n",
        "from tensorflow.keras.applications import EfficientNetB0"
      ]
    },
    {
      "cell_type": "code",
      "execution_count": null,
      "id": "64f9cd02",
      "metadata": {
        "id": "64f9cd02"
      },
      "outputs": [],
      "source": [
        "model1 =EfficientNetB0(include_top=False,input_shape=(224, 224, 3), weights='imagenet')"
      ]
    },
    {
      "cell_type": "code",
      "execution_count": null,
      "id": "b9dd9867",
      "metadata": {
        "id": "b9dd9867"
      },
      "outputs": [],
      "source": [
        "input_shape = (224,224)"
      ]
    },
    {
      "cell_type": "code",
      "execution_count": null,
      "id": "aca8db11",
      "metadata": {
        "id": "aca8db11"
      },
      "outputs": [],
      "source": [
        "conv_model = Model(inputs=model1.input, outputs=model1.output)"
      ]
    },
    {
      "cell_type": "code",
      "execution_count": null,
      "id": "bfb3331c",
      "metadata": {
        "id": "bfb3331c"
      },
      "outputs": [],
      "source": [
        "from tensorflow.keras.models import Sequential\n",
        "\n",
        "new_model = Sequential()\n",
        "\n",
        "new_model.add(conv_model)\n",
        "\n",
        "new_model.add(Flatten())\n",
        "\n",
        "new_model.add(Dense(1024, activation='relu'))\n",
        "new_model.add(Dropout(0.5))\n",
        "new_model.add(Dense(512, activation='relu'))\n",
        "new_model.add(Dense(2, activation='softmax'))"
      ]
    },
    {
      "cell_type": "code",
      "execution_count": null,
      "id": "0e8f4e72",
      "metadata": {
        "id": "0e8f4e72"
      },
      "outputs": [],
      "source": [
        "batch_size=8"
      ]
    },
    {
      "cell_type": "code",
      "execution_count": null,
      "id": "26b8ff93",
      "metadata": {
        "id": "26b8ff93"
      },
      "outputs": [],
      "source": [
        "new_model.build(input_shape = (None,224, 224, 3))\n",
        "new_model.load_weights('C:/Users/DELL/Desktop/Brain22/BDT/CSMODEL/efficient.h5')"
      ]
    },
    {
      "cell_type": "code",
      "execution_count": null,
      "id": "48c5be48",
      "metadata": {
        "id": "48c5be48"
      },
      "outputs": [],
      "source": [
        "pip install lime"
      ]
    },
    {
      "cell_type": "code",
      "execution_count": null,
      "id": "4176a1cc",
      "metadata": {
        "id": "4176a1cc"
      },
      "outputs": [],
      "source": [
        "import lime\n",
        "from lime import lime_image\n",
        "from PIL import Image\n",
        "import tensorflow as tf\n",
        "import numpy as np\n",
        "import matplotlib.pyplot as plt\n",
        "from skimage.segmentation import mark_boundaries\n",
        "\n",
        "def xAI(model,img_dir):\n",
        "    image = Image.open(img_dir)\n",
        "    imgx = np.asarray(image)\n",
        "    #print(imgx[:,:,0].shape)\n",
        "    #image = image.resize((224, 224))\n",
        "    img = np.asarray(imgx[:,:,0])\n",
        "    img = img/255\n",
        "    img2 = np.zeros( ( np.array(img).shape[0], np.array(img).shape[1], 3 ) )\n",
        "    img2[:,:,0] = img # same value in each channel\n",
        "    img2[:,:,1] = img\n",
        "    img2[:,:,2] = img\n",
        "    #print(img2.shape)\n",
        "    explainer = lime_image.LimeImageExplainer(random_state=42)\n",
        "    explanation = explainer.explain_instance(img2, new_model.predict, labels=[\"Non-Tumor\", \"Tumor\"],top_labels=2, hide_color=0,num_samples=1000)\n",
        "    #plt.imshow(img)\n",
        "    image, mask = explanation.get_image_and_mask(\n",
        "             model.predict(img2.reshape((1,224,224,3))).argmax(axis=1)[0],\n",
        "        \n",
        "             positive_only=False,\n",
        "        #num_features=10,\n",
        "             hide_rest=False)\n",
        "    plt.axis ('off')\n",
        "    plt.imshow(mark_boundaries(image, mask))\n"
      ]
    },
    {
      "cell_type": "code",
      "execution_count": null,
      "id": "6cfb3925",
      "metadata": {
        "id": "6cfb3925"
      },
      "outputs": [],
      "source": [
        "mod='CSEfficient'"
      ]
    },
    {
      "cell_type": "code",
      "execution_count": null,
      "id": "2e2bcf5e",
      "metadata": {
        "id": "2e2bcf5e"
      },
      "outputs": [],
      "source": [
        "xAI(new_model, \"C:/Users/DELL/Desktop/Brain22/BDT/test/false/No16 resized.png\")\n",
        "plt.savefig('C:/Users/DELL/Desktop/Brain22/BDT/test/0_4_'+mod+'.png')\n",
        "plt.savefig('C:/Users/DELL/Desktop/Brain22/BDT/test/0_4_'+mod+'.pdf')"
      ]
    }
  ],
  "metadata": {
    "colab": {
      "provenance": []
    },
    "kernelspec": {
      "display_name": "Python 3 (ipykernel)",
      "language": "python",
      "name": "python3"
    },
    "language_info": {
      "codemirror_mode": {
        "name": "ipython",
        "version": 3
      },
      "file_extension": ".py",
      "mimetype": "text/x-python",
      "name": "python",
      "nbconvert_exporter": "python",
      "pygments_lexer": "ipython3",
      "version": "3.9.7"
    }
  },
  "nbformat": 4,
  "nbformat_minor": 5
}